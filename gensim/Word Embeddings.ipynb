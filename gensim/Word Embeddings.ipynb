{
 "cells": [
  {
   "cell_type": "code",
   "execution_count": 18,
   "metadata": {},
   "outputs": [],
   "source": [
    "import re\n",
    "import os\n",
    "import string\n",
    "\n",
    "from gensim.models import Word2Vec\n",
    "from gensim.similarities.index import AnnoyIndexer"
   ]
  },
  {
   "cell_type": "markdown",
   "metadata": {},
   "source": [
    "### Load corpus from the text file"
   ]
  },
  {
   "cell_type": "code",
   "execution_count": 19,
   "metadata": {},
   "outputs": [
    {
     "name": "stdout",
     "output_type": "stream",
     "text": [
      "අමාත්‍යාංශ කටයුතු මෙහෙයවීමට වාසුදේව නානායක්කාර මැතිතුමා ගරු ජාතික භාෂා හා සමාජ ඒකාබද්ධතා අමාත්‍යවරයා ලෙසද , පලනි තිගම්බරම් මැතිතුමා ගරු ජාතික භාෂා හා සමාජ ඒකාබද්ධතා නියෝජ්‍ය අමාත්‍යවරයා ලෙස ද එම් . එස\n"
     ]
    }
   ],
   "source": [
    "with open('sinhala.txt', 'r') as fp:\n",
    "    text = fp.read()\n",
    "    print(text[:200])"
   ]
  },
  {
   "cell_type": "markdown",
   "metadata": {},
   "source": [
    "### Clean data"
   ]
  },
  {
   "cell_type": "code",
   "execution_count": 21,
   "metadata": {},
   "outputs": [
    {
     "data": {
      "text/plain": [
       "[['අමාත්\\u200dයාංශ',\n",
       "  'කටයුතු',\n",
       "  'මෙහෙයවීමට',\n",
       "  'වාසුදේව',\n",
       "  'නානායක්කාර',\n",
       "  'මැතිතුමා',\n",
       "  'ගරු',\n",
       "  'ජාතික',\n",
       "  'භාෂා',\n",
       "  'හා',\n",
       "  'සමාජ',\n",
       "  'ඒකාබද්ධතා',\n",
       "  'අමාත්\\u200dයවරයා',\n",
       "  'ලෙසද',\n",
       "  'පලනි',\n",
       "  'තිගම්බරම්',\n",
       "  'මැතිතුමා',\n",
       "  'ගරු',\n",
       "  'ජාතික',\n",
       "  'භාෂා',\n",
       "  'හා',\n",
       "  'සමාජ',\n",
       "  'ඒකාබද්ධතා',\n",
       "  'නියෝජ්\\u200dය',\n",
       "  'අමාත්\\u200dයවරයා',\n",
       "  'ලෙස',\n",
       "  'එම්',\n",
       "  'එස්',\n",
       "  'වික්\\u200dරමසිංහ',\n",
       "  'මිය',\n",
       "  'අමාත්\\u200dයාංශ',\n",
       "  'ලේකම්',\n",
       "  'ලෙස',\n",
       "  'පත්',\n",
       "  'ලදි'],\n",
       " ['මෙම',\n",
       "  'අමාත්\\u200dයාංශය',\n",
       "  'අංක',\n",
       "  'බුත්ගමුවපාර',\n",
       "  'රාජගිරිය',\n",
       "  'ස්ථානයේ',\n",
       "  'පිහිටා']]"
      ]
     },
     "execution_count": 21,
     "metadata": {},
     "output_type": "execute_result"
    }
   ],
   "source": [
    "filtered_text = ''.join(\n",
    "            [i for i in text if (not i.isdigit() and i not in set(string.punctuation) and i not in ['“', '”'])])\n",
    "re.sub(' +', ' ', filtered_text)\n",
    "sentences = filtered_text.split('\\n')\n",
    "word_list = [line.split(' ') for line in sentences]\n",
    "\n",
    "def remove_null(line):\n",
    "    while '' in line:\n",
    "        line.remove('')\n",
    "    line = [ word for word in line if not word.isalpha()]\n",
    "    return line\n",
    "    \n",
    "word_list = [ remove_null(line) for line in word_list]\n",
    "word_list[:2]"
   ]
  },
  {
   "cell_type": "markdown",
   "metadata": {},
   "source": [
    "### Train CBOW and skip-gram models"
   ]
  },
  {
   "cell_type": "code",
   "execution_count": 29,
   "metadata": {},
   "outputs": [],
   "source": [
    " def train_word_to_vec_v2(skipgram=0):\n",
    "        # train model\n",
    "        \n",
    "        if skipgram == 0:\n",
    "            model_name = 'skipgram_model.bin'\n",
    "        else:\n",
    "            model_name = 'cbow_model.bin'\n",
    "        if os.path.exists(model_name):\n",
    "            print('load existing model - {}'.format(model_name))\n",
    "            new_model = Word2Vec.load(model_name)\n",
    "        else:\n",
    "            model = Word2Vec(word_list, size=100, window=5, min_count=1, workers=4, sg=skipgram)\n",
    "            words = list(model.wv.vocab)\n",
    "            model.save(model_name)\n",
    "            # load model\n",
    "            new_model = Word2Vec.load(model_name)\n",
    "            # print(new_model)\n",
    "        return new_model"
   ]
  },
  {
   "cell_type": "code",
   "execution_count": 30,
   "metadata": {},
   "outputs": [],
   "source": [
    "model_cbow = train_word_to_vec_v2(1)\n",
    "model_skipgram = train_word_to_vec_v2(0)"
   ]
  },
  {
   "cell_type": "markdown",
   "metadata": {},
   "source": [
    "### Checking word similarity"
   ]
  },
  {
   "cell_type": "code",
   "execution_count": 31,
   "metadata": {},
   "outputs": [
    {
     "name": "stdout",
     "output_type": "stream",
     "text": [
      "0.3064647316932678\n",
      "[('කටයුතු', 0.9999999403953552), ('සැලසුම්', 0.7395913600921631), ('අලුත්වැඩියා', 0.7228710651397705), ('කඩිනමින්', 0.7158126831054688), ('සිදු', 0.7099413275718689), ('සංවිධානය', 0.7082185745239258), ('විධිමත්', 0.7065615653991699), ('සාකච්ඡා', 0.7022934556007385), ('දෝෂ', 0.701819658279419), ('සම්පාදනය', 0.6998875737190247)]\n"
     ]
    }
   ],
   "source": [
    "vector1 = model_cbow.wv[\"කටයුතු\"]\n",
    "vector2 = model_cbow.wv[\"සාකච්ඡා\"]\n",
    "print(model_cbow.wv.distance('කටයුතු', 'ඉදිරියේදී'))\n",
    "print(model_cbow.wv.most_similar([vector1]))"
   ]
  },
  {
   "cell_type": "markdown",
   "metadata": {},
   "source": [
    "### Get most frequent words which is longer than 4 charactors\n"
   ]
  },
  {
   "cell_type": "code",
   "execution_count": 41,
   "metadata": {},
   "outputs": [
    {
     "name": "stdout",
     "output_type": "stream",
     "text": [
      "['සඳහා', 'යුතු', 'කිරීම', 'කටයුතු', 'විසින්', 'සඳහන්', 'ලේකම්', 'වැනි', 'කවරේද', 'යටතේ']\n"
     ]
    }
   ],
   "source": [
    "common_words = [ word for word in model_cbow.wv.index2entity[:100] if len(word) > 3 ][:10]\n",
    "print(common_words)"
   ]
  },
  {
   "cell_type": "code",
   "execution_count": 48,
   "metadata": {
    "scrolled": false
   },
   "outputs": [
    {
     "name": "stdout",
     "output_type": "stream",
     "text": [
      "----------------------------------------------------\n",
      "Word :  සඳහා\n",
      "CBOW       -> සඳහා, සදහා, වලින්, වෙනුවෙන්, පිණිස, යාවත්කාලීන, කිරීමටත්, අවශ්‍යතා, පදනම්, කරගෙන\n",
      "skip-gram  -> සඳහා, කිරීම, යොදා, පියවා, ආරම්භ, සැපයුම, බඳවා, ක්‍රියාමාර්ගයක්, අපේක්ෂිත, ගෙන්වා\n",
      "----------------------------------------------------\n",
      "Word :  යුතු\n",
      "CBOW       -> යුතු, යුතුය, හැකි, යුත්තේ, කෙරෙන, අදාළ, දැක්වෙන, කල්, නොහැකි, ලියා\n",
      "skip-gram  -> යුතු, ඉල්ලුම්පත්‍රයේ, ඉල්ලුම්පත්‍රය, ලිපියකින්, දිය, නොගෙවිය, යුතුය, ගම්‍ය, විය, සැලකිය\n",
      "----------------------------------------------------\n",
      "Word :  කිරීම\n",
      "CBOW       -> කිරීම, කිරීමට, කිරීම්, කිරීමේ, කිරීමේදී, කිරීමටත්, කෙරෙන, කොට, සැලැස්ම, ප්‍රකාශයට\n",
      "skip-gram  -> කිරීම, සඳහා, ගිවිසුම, කටයුත්තක්, කි‍්‍රයාත්මක, සකස්, ආරක්ෂා, වැඩපිළිවෙලක්, බලපත‍්‍රයක්, සිදු\n",
      "----------------------------------------------------\n",
      "Word :  කටයුතු\n",
      "CBOW       -> කටයුතු, සැලසුම්, අලුත්වැඩියා, කඩිනමින්, සිදු, සංවිධානය, විධිමත්, සාකච්ඡා, දෝෂ, සම්පාදනය\n",
      "skip-gram  -> කටයුතු, මගපෙන්වීම, අවශ්‍ය, දීමට, කරන්නේද, වැදගත්වන, දෙයි, මුදාහැරිය, සූත‍්‍ර, නොපමාව\n",
      "----------------------------------------------------\n",
      "Word :  විසින්\n",
      "CBOW       -> විසින්, සාදන, අදාලව, විගණකාධිපති, මණ්ඩලය, දිනැතිව, එවා, ලිපියට, වෙත, කරුණට\n",
      "skip-gram  -> විසින්, ලදුව, සාදන, සාදනු, අති, ලිපියෙන්, අමාත්‍යවරයා, උක්ත, දිනැති, දිනැතිව\n",
      "----------------------------------------------------\n",
      "Word :  සඳහන්\n",
      "CBOW       -> සඳහන්, දැක්වෙන, සදහන්, වේ, යන්න, යන්නත්, කරන්නෙහිද, වගන්තිවල, කරුණු, ලබන්නේකෙසේද\n",
      "skip-gram  -> සඳහන්, වගන්තිවල, පරිදි, වාර්තාවෙහි, ලිපියෙහි, යන්නත්, කොන්දේසිවලට, විධිවිධානයන්, මෙම, හිග\n",
      "----------------------------------------------------\n",
      "Word :  ලේකම්\n",
      "CBOW       -> ලේකම්, ප්‍රාදේශීය, දිස්ත්‍රික්, මාතලේ, දිසාපති, කෝරළේ, කාර්යාලය, පස්බාගේ, කාර්යාලයේ, ප්‍රාදේශිය\n",
      "skip-gram  -> ලේකම්, දිසාපති, කාර්යාලවල, දිස්ත්‍රික්, ප්‍රාදේශීය, මැදගම, කොට්ඨාස, කාර්යාලය, කාර්යාලයේ, මුලටියන\n",
      "----------------------------------------------------\n",
      "Word :  වැනි\n",
      "CBOW       -> වැනි, සුරාබදු, ආඥාපනතේ, ඡේදය, උපවගන්තියේ, අධිකාරය, ඡේදය, බලන්න, වෘක්ෂලතා, සහයෝගීතාව\n",
      "skip-gram  -> වැනි, අධිකාරය, වගන්තිය, ආඥාපනතේ, පරිශිෂ්ටය, කාණ්ඩයේ, ඡේදය, වගන්ති, කියවිය, පරිච්ඡේදයේ\n",
      "----------------------------------------------------\n",
      "Word :  කවරේද\n",
      "CBOW       -> කවරේද, යන්න, ප‍්‍රතිඵල, ලිපිනයන්, ඒවායින්, එතුමා, වශඑතුමා, ඒවායේ, බලපෑ, අපේක්ෂිත\n",
      "skip-gram  -> කවරේද, යන්න, වැඩිකිරීමෙන්, නිශ්චිතව, යන්නත්, කවදාද, බලපෑ, පිළිගන්නෙහිද, එතුමා, පියවර\n",
      "----------------------------------------------------\n",
      "Word :  යටතේ\n",
      "CBOW       -> යටතේ, සංචාරක, වගන්තියේ, සුරාබදු, වගන්තිය, ආඥාපනතේ, ආරක්ෂක, සංග්‍රහයේ, ආඥාපනත, දැක්වීමේ\n",
      "skip-gram  -> යටතේ, ආඥාපනතේ, පනතේ, වගන්ති, වගන්තිය, කාණ්ඩයේ, සුරාබදු, අධිකාරය, ඡේදය, උපවගන්තිය\n"
     ]
    }
   ],
   "source": [
    "model_name = ['CBOW', 'skip-gram']\n",
    "for word in common_words:\n",
    "    print(\"----------------------------------------------------\\nWord :  {}\".format(word))\n",
    "    for i, model in enumerate([model_cbow, model_skipgram]):\n",
    "        vector = model.wv[word]\n",
    "        sim_words = model.wv.most_similar([vector])\n",
    "        print(\"{:10} -> {}\".format(model_name[i], ', '.join([ ele[0] for ele in sim_words])))"
   ]
  },
  {
   "cell_type": "code",
   "execution_count": 16,
   "metadata": {},
   "outputs": [],
   "source": [
    "from gensim.test.utils import datapath\n",
    "from gensim.models.fasttext import load_facebook_model\n",
    "\n",
    "cap_path = datapath(\"/home/dulanj/MEGAsync/MSc/msc-code/Sem2/NLP/fastText/cc.si.300.bin.gz\")\n",
    "fb_model = load_facebook_model(cap_path)"
   ]
  },
  {
   "cell_type": "code",
   "execution_count": 52,
   "metadata": {},
   "outputs": [
    {
     "name": "stdout",
     "output_type": "stream",
     "text": [
      "------------------------------------------------------------------------------\n",
      "Word : සඳහා\n",
      "සඳහා, සදහා, සඳහා‍, කිරීම, සඳහාඳ, සඳහාවු, සඳහාඑජ, සඳහා1.54ක්, සඳහාමද, සඳහාඑම\n",
      "------------------------------------------------------------------------------\n",
      "Word : යුතු\n",
      "යුතු, හැකි, යුතුය, යුතුමුත්, යුතුම, යුතුමව, යුතුයි.අවශ්‍ය, යුතුමද, විය, නොහැකි\n",
      "------------------------------------------------------------------------------\n",
      "Word : කිරීම\n",
      "කිරීම, කිරීමට, කිරීම.ඒ, කිරීම‍‍, ගැනීම, කිරීමල, කිරීමේ, කිරීම3, වීම, කිරීමි\n",
      "------------------------------------------------------------------------------\n",
      "Word : කටයුතු\n",
      "කටයුතු, කටයුතුව, කටයුතුවලදීත්, කලාකටයුතු, කටයුතුවලද, කටයුතුවලදීද, කටයුතුකල, කටයුතුකලා, සේවාකටයුතු, සමගකටයුතු\n",
      "------------------------------------------------------------------------------\n",
      "Word : විසින්\n",
      "විසින්, මගින්, විසින්ම, වෙත, විසින, විසිනි, මහතාවිසින්, මඟින්, හර්ෂල්විසින්, තමාවිසින්ම\n",
      "------------------------------------------------------------------------------\n",
      "Word : සඳහන්\n",
      "සඳහන්, සඳහන්ඉඟි, සදහන්, සඳහන්කර, සඳහන්ද, සඳහන්කලා, සඳහන්ය.ඒ, සඳහන්වූ, සඳහනේ, සඳහන්වන\n",
      "------------------------------------------------------------------------------\n",
      "Word : ලේකම්\n",
      "ලේකම්, ලේකම්ය, ලේකම්ල, ලේකම්ගෙ, ලේකම්ද, ලේකම්කාර්යාලය, ලේකම්තුමිය, කාර්යාලයලේකම්, මහ‌ලේකම්, ලේකම්කම\n",
      "------------------------------------------------------------------------------\n",
      "Word : වැනි\n",
      "වැනි, වැනිදෑද, සියවසේ, වැනිදේට, හවැනි, මෙවැනි, 16වැනි, වැනිදයින්, වැනිදේද, 01වැනි\n",
      "------------------------------------------------------------------------------\n",
      "Word : කවරේද\n",
      "කවරේද, කවරේදැ, කියනුම, කවරේදැයි, හමාස, ආය්‍යසත්‍යය, කිමෙක්ද, කවරේට, කෙසේද, දුක්ඛාර්‍ය්‍යසත්‍යය\n",
      "------------------------------------------------------------------------------\n",
      "Word : යටතේ\n",
      "යටතේ, යටතේ්, යටතේයි, 3244, යටතේමය, යටතේත්, යටතේම, යටතේය, යටතේය.එම, යටතේද\n"
     ]
    }
   ],
   "source": [
    "for word in common_words:\n",
    "    print(\"------------------------------------------------------------------------------\\nWord : {}\".format(word))\n",
    "    vector = fb_model.wv[word]\n",
    "    sim_words = fb_model.wv.most_similar([vector])\n",
    "    print( ', '.join([ ele[0] for ele in sim_words]))\n",
    "        \n",
    "# vector1 = fb_model.wv[\"කටයුතු\"]\n",
    "# fb_model.wv.most_similar([vector1])"
   ]
  },
  {
   "cell_type": "code",
   "execution_count": null,
   "metadata": {},
   "outputs": [],
   "source": []
  }
 ],
 "metadata": {
  "kernelspec": {
   "display_name": "Python 3",
   "language": "python",
   "name": "python3"
  },
  "language_info": {
   "codemirror_mode": {
    "name": "ipython",
    "version": 3
   },
   "file_extension": ".py",
   "mimetype": "text/x-python",
   "name": "python",
   "nbconvert_exporter": "python",
   "pygments_lexer": "ipython3",
   "version": "3.7.6"
  }
 },
 "nbformat": 4,
 "nbformat_minor": 4
}
